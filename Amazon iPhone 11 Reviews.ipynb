{
 "cells": [
  {
   "cell_type": "code",
   "execution_count": 1,
   "id": "a2221f5e",
   "metadata": {},
   "outputs": [],
   "source": [
    "import pandas as pd"
   ]
  },
  {
   "cell_type": "code",
   "execution_count": 2,
   "id": "7430d307",
   "metadata": {},
   "outputs": [],
   "source": [
    "df = pd.read_csv(\"/Users/junyuwu/Amazon/components/apple_iphone_11_reviews.csv\")"
   ]
  },
  {
   "cell_type": "code",
   "execution_count": 3,
   "id": "321e5248",
   "metadata": {},
   "outputs": [
    {
     "data": {
      "text/html": [
       "<div>\n",
       "<style scoped>\n",
       "    .dataframe tbody tr th:only-of-type {\n",
       "        vertical-align: middle;\n",
       "    }\n",
       "\n",
       "    .dataframe tbody tr th {\n",
       "        vertical-align: top;\n",
       "    }\n",
       "\n",
       "    .dataframe thead th {\n",
       "        text-align: right;\n",
       "    }\n",
       "</style>\n",
       "<table border=\"1\" class=\"dataframe\">\n",
       "  <thead>\n",
       "    <tr style=\"text-align: right;\">\n",
       "      <th></th>\n",
       "      <th>index</th>\n",
       "      <th>product</th>\n",
       "      <th>helpful_count</th>\n",
       "      <th>total_comments</th>\n",
       "      <th>url</th>\n",
       "      <th>review_country</th>\n",
       "      <th>reviewed_at</th>\n",
       "      <th>review_text</th>\n",
       "      <th>review_rating</th>\n",
       "      <th>product_company</th>\n",
       "      <th>profile_name</th>\n",
       "      <th>review_title</th>\n",
       "    </tr>\n",
       "  </thead>\n",
       "  <tbody>\n",
       "    <tr>\n",
       "      <th>0</th>\n",
       "      <td>0</td>\n",
       "      <td>Apple iPhone XR (64GB) - Black</td>\n",
       "      <td>5,087 people found this helpful</td>\n",
       "      <td>24</td>\n",
       "      <td>https://www.amazon.in/Apple-iPhone-XR-64GB-Bla...</td>\n",
       "      <td>India</td>\n",
       "      <td>2018-12-12</td>\n",
       "      <td>NOTE:</td>\n",
       "      <td>3.0 out of 5 stars</td>\n",
       "      <td>Apple</td>\n",
       "      <td>Sameer Patil</td>\n",
       "      <td>Which iPhone you should Purchase ? iPhone 8, X...</td>\n",
       "    </tr>\n",
       "    <tr>\n",
       "      <th>1</th>\n",
       "      <td>1</td>\n",
       "      <td>Apple iPhone XR (64GB) - Black</td>\n",
       "      <td>2,822 people found this helpful</td>\n",
       "      <td>6</td>\n",
       "      <td>https://www.amazon.in/Apple-iPhone-XR-64GB-Bla...</td>\n",
       "      <td>India</td>\n",
       "      <td>2018-11-17</td>\n",
       "      <td>Very bad experience with this iPhone xr phone....</td>\n",
       "      <td>1.0 out of 5 stars</td>\n",
       "      <td>Apple</td>\n",
       "      <td>Amazon Customer</td>\n",
       "      <td>Don't buy iPhone xr from Amazon.</td>\n",
       "    </tr>\n",
       "    <tr>\n",
       "      <th>2</th>\n",
       "      <td>2</td>\n",
       "      <td>Apple iPhone XR (64GB) - Black</td>\n",
       "      <td>1,798 people found this helpful</td>\n",
       "      <td>0</td>\n",
       "      <td>https://www.amazon.in/Apple-iPhone-XR-64GB-Bla...</td>\n",
       "      <td>India</td>\n",
       "      <td>2019-01-27</td>\n",
       "      <td>Amazing phone with amazing camera coming from ...</td>\n",
       "      <td>5.0 out of 5 stars</td>\n",
       "      <td>Apple</td>\n",
       "      <td>A</td>\n",
       "      <td>Happy with the purchase</td>\n",
       "    </tr>\n",
       "    <tr>\n",
       "      <th>3</th>\n",
       "      <td>3</td>\n",
       "      <td>Apple iPhone XR (64GB) - Black</td>\n",
       "      <td>1,366 people found this helpful</td>\n",
       "      <td>14</td>\n",
       "      <td>https://www.amazon.in/Apple-iPhone-XR-64GB-Bla...</td>\n",
       "      <td>India</td>\n",
       "      <td>2019-05-02</td>\n",
       "      <td>So I got the iPhone XR just today. The product...</td>\n",
       "      <td>1.0 out of 5 stars</td>\n",
       "      <td>Apple</td>\n",
       "      <td>Shubham Dutta</td>\n",
       "      <td>Amazon is not an apple authorised reseller. Pl...</td>\n",
       "    </tr>\n",
       "    <tr>\n",
       "      <th>4</th>\n",
       "      <td>4</td>\n",
       "      <td>Apple iPhone XR (64GB) - Black</td>\n",
       "      <td>536 people found this helpful</td>\n",
       "      <td>5</td>\n",
       "      <td>https://www.amazon.in/Apple-iPhone-XR-64GB-Bla...</td>\n",
       "      <td>India</td>\n",
       "      <td>2019-05-24</td>\n",
       "      <td>I've been an android user all my life until I ...</td>\n",
       "      <td>5.0 out of 5 stars</td>\n",
       "      <td>Apple</td>\n",
       "      <td>Nepuni Lokho</td>\n",
       "      <td>Excellent Battery life and buttery smooth UI</td>\n",
       "    </tr>\n",
       "  </tbody>\n",
       "</table>\n",
       "</div>"
      ],
      "text/plain": [
       "   index                         product                    helpful_count  \\\n",
       "0      0  Apple iPhone XR (64GB) - Black  5,087 people found this helpful   \n",
       "1      1  Apple iPhone XR (64GB) - Black  2,822 people found this helpful   \n",
       "2      2  Apple iPhone XR (64GB) - Black  1,798 people found this helpful   \n",
       "3      3  Apple iPhone XR (64GB) - Black  1,366 people found this helpful   \n",
       "4      4  Apple iPhone XR (64GB) - Black    536 people found this helpful   \n",
       "\n",
       "   total_comments                                                url  \\\n",
       "0              24  https://www.amazon.in/Apple-iPhone-XR-64GB-Bla...   \n",
       "1               6  https://www.amazon.in/Apple-iPhone-XR-64GB-Bla...   \n",
       "2               0  https://www.amazon.in/Apple-iPhone-XR-64GB-Bla...   \n",
       "3              14  https://www.amazon.in/Apple-iPhone-XR-64GB-Bla...   \n",
       "4               5  https://www.amazon.in/Apple-iPhone-XR-64GB-Bla...   \n",
       "\n",
       "  review_country reviewed_at  \\\n",
       "0         India   2018-12-12   \n",
       "1         India   2018-11-17   \n",
       "2         India   2019-01-27   \n",
       "3         India   2019-05-02   \n",
       "4         India   2019-05-24   \n",
       "\n",
       "                                         review_text       review_rating  \\\n",
       "0                                              NOTE:  3.0 out of 5 stars   \n",
       "1  Very bad experience with this iPhone xr phone....  1.0 out of 5 stars   \n",
       "2  Amazing phone with amazing camera coming from ...  5.0 out of 5 stars   \n",
       "3  So I got the iPhone XR just today. The product...  1.0 out of 5 stars   \n",
       "4  I've been an android user all my life until I ...  5.0 out of 5 stars   \n",
       "\n",
       "  product_company     profile_name  \\\n",
       "0           Apple     Sameer Patil   \n",
       "1           Apple  Amazon Customer   \n",
       "2           Apple                A   \n",
       "3           Apple    Shubham Dutta   \n",
       "4           Apple     Nepuni Lokho   \n",
       "\n",
       "                                        review_title  \n",
       "0  Which iPhone you should Purchase ? iPhone 8, X...  \n",
       "1                   Don't buy iPhone xr from Amazon.  \n",
       "2                            Happy with the purchase  \n",
       "3  Amazon is not an apple authorised reseller. Pl...  \n",
       "4       Excellent Battery life and buttery smooth UI  "
      ]
     },
     "execution_count": 3,
     "metadata": {},
     "output_type": "execute_result"
    }
   ],
   "source": [
    "df.head()"
   ]
  },
  {
   "cell_type": "code",
   "execution_count": 4,
   "id": "a61c5602",
   "metadata": {},
   "outputs": [
    {
     "data": {
      "text/plain": [
       "index              0\n",
       "product            0\n",
       "helpful_count      0\n",
       "total_comments     0\n",
       "url                0\n",
       "review_country     0\n",
       "reviewed_at        0\n",
       "review_text        3\n",
       "review_rating      0\n",
       "product_company    0\n",
       "profile_name       0\n",
       "review_title       2\n",
       "dtype: int64"
      ]
     },
     "execution_count": 4,
     "metadata": {},
     "output_type": "execute_result"
    }
   ],
   "source": [
    "df.isna().sum()"
   ]
  },
  {
   "cell_type": "code",
   "execution_count": 5,
   "id": "16338b20",
   "metadata": {},
   "outputs": [],
   "source": [
    "df.dropna(inplace = True)"
   ]
  },
  {
   "cell_type": "code",
   "execution_count": 6,
   "id": "89e8ac22",
   "metadata": {},
   "outputs": [],
   "source": [
    "df.reset_index(drop=True, inplace=True)"
   ]
  },
  {
   "cell_type": "code",
   "execution_count": 11,
   "id": "e0159cef",
   "metadata": {},
   "outputs": [
    {
     "data": {
      "text/html": [
       "<div>\n",
       "<style scoped>\n",
       "    .dataframe tbody tr th:only-of-type {\n",
       "        vertical-align: middle;\n",
       "    }\n",
       "\n",
       "    .dataframe tbody tr th {\n",
       "        vertical-align: top;\n",
       "    }\n",
       "\n",
       "    .dataframe thead th {\n",
       "        text-align: right;\n",
       "    }\n",
       "</style>\n",
       "<table border=\"1\" class=\"dataframe\">\n",
       "  <thead>\n",
       "    <tr style=\"text-align: right;\">\n",
       "      <th></th>\n",
       "      <th>product</th>\n",
       "      <th>helpful_count</th>\n",
       "      <th>total_comments</th>\n",
       "      <th>url</th>\n",
       "      <th>review_country</th>\n",
       "      <th>reviewed_at</th>\n",
       "      <th>review_text</th>\n",
       "      <th>review_rating</th>\n",
       "      <th>product_company</th>\n",
       "      <th>profile_name</th>\n",
       "      <th>review_title</th>\n",
       "    </tr>\n",
       "  </thead>\n",
       "  <tbody>\n",
       "    <tr>\n",
       "      <th>0</th>\n",
       "      <td>Apple iPhone XR (64GB) - Black</td>\n",
       "      <td>5,087 people found this helpful</td>\n",
       "      <td>24</td>\n",
       "      <td>https://www.amazon.in/Apple-iPhone-XR-64GB-Bla...</td>\n",
       "      <td>India</td>\n",
       "      <td>2018-12-12</td>\n",
       "      <td>NOTE:</td>\n",
       "      <td>3.0 out of 5 stars</td>\n",
       "      <td>Apple</td>\n",
       "      <td>Sameer Patil</td>\n",
       "      <td>Which iPhone you should Purchase ? iPhone 8, X...</td>\n",
       "    </tr>\n",
       "    <tr>\n",
       "      <th>1</th>\n",
       "      <td>Apple iPhone XR (64GB) - Black</td>\n",
       "      <td>2,822 people found this helpful</td>\n",
       "      <td>6</td>\n",
       "      <td>https://www.amazon.in/Apple-iPhone-XR-64GB-Bla...</td>\n",
       "      <td>India</td>\n",
       "      <td>2018-11-17</td>\n",
       "      <td>Very bad experience with this iPhone xr phone....</td>\n",
       "      <td>1.0 out of 5 stars</td>\n",
       "      <td>Apple</td>\n",
       "      <td>Amazon Customer</td>\n",
       "      <td>Don't buy iPhone xr from Amazon.</td>\n",
       "    </tr>\n",
       "    <tr>\n",
       "      <th>2</th>\n",
       "      <td>Apple iPhone XR (64GB) - Black</td>\n",
       "      <td>1,798 people found this helpful</td>\n",
       "      <td>0</td>\n",
       "      <td>https://www.amazon.in/Apple-iPhone-XR-64GB-Bla...</td>\n",
       "      <td>India</td>\n",
       "      <td>2019-01-27</td>\n",
       "      <td>Amazing phone with amazing camera coming from ...</td>\n",
       "      <td>5.0 out of 5 stars</td>\n",
       "      <td>Apple</td>\n",
       "      <td>A</td>\n",
       "      <td>Happy with the purchase</td>\n",
       "    </tr>\n",
       "    <tr>\n",
       "      <th>3</th>\n",
       "      <td>Apple iPhone XR (64GB) - Black</td>\n",
       "      <td>1,366 people found this helpful</td>\n",
       "      <td>14</td>\n",
       "      <td>https://www.amazon.in/Apple-iPhone-XR-64GB-Bla...</td>\n",
       "      <td>India</td>\n",
       "      <td>2019-05-02</td>\n",
       "      <td>So I got the iPhone XR just today. The product...</td>\n",
       "      <td>1.0 out of 5 stars</td>\n",
       "      <td>Apple</td>\n",
       "      <td>Shubham Dutta</td>\n",
       "      <td>Amazon is not an apple authorised reseller. Pl...</td>\n",
       "    </tr>\n",
       "    <tr>\n",
       "      <th>4</th>\n",
       "      <td>Apple iPhone XR (64GB) - Black</td>\n",
       "      <td>536 people found this helpful</td>\n",
       "      <td>5</td>\n",
       "      <td>https://www.amazon.in/Apple-iPhone-XR-64GB-Bla...</td>\n",
       "      <td>India</td>\n",
       "      <td>2019-05-24</td>\n",
       "      <td>I've been an android user all my life until I ...</td>\n",
       "      <td>5.0 out of 5 stars</td>\n",
       "      <td>Apple</td>\n",
       "      <td>Nepuni Lokho</td>\n",
       "      <td>Excellent Battery life and buttery smooth UI</td>\n",
       "    </tr>\n",
       "    <tr>\n",
       "      <th>...</th>\n",
       "      <td>...</td>\n",
       "      <td>...</td>\n",
       "      <td>...</td>\n",
       "      <td>...</td>\n",
       "      <td>...</td>\n",
       "      <td>...</td>\n",
       "      <td>...</td>\n",
       "      <td>...</td>\n",
       "      <td>...</td>\n",
       "      <td>...</td>\n",
       "      <td>...</td>\n",
       "    </tr>\n",
       "    <tr>\n",
       "      <th>5002</th>\n",
       "      <td>Apple iPhone XR (64GB) - Black</td>\n",
       "      <td>0</td>\n",
       "      <td>0</td>\n",
       "      <td>https://www.amazon.in/Apple-iPhone-XR-64GB-Bla...</td>\n",
       "      <td>India</td>\n",
       "      <td>2019-11-13</td>\n",
       "      <td>Dhamaka</td>\n",
       "      <td>4.0 out of 5 stars</td>\n",
       "      <td>Apple</td>\n",
       "      <td>Shreya</td>\n",
       "      <td>Dhamaka phone</td>\n",
       "    </tr>\n",
       "    <tr>\n",
       "      <th>5003</th>\n",
       "      <td>Apple iPhone XR (64GB) - Black</td>\n",
       "      <td>0</td>\n",
       "      <td>0</td>\n",
       "      <td>https://www.amazon.in/Apple-iPhone-XR-64GB-Bla...</td>\n",
       "      <td>India</td>\n",
       "      <td>2019-11-15</td>\n",
       "      <td>Goodbye</td>\n",
       "      <td>4.0 out of 5 stars</td>\n",
       "      <td>Apple</td>\n",
       "      <td>murali hv</td>\n",
       "      <td>Good</td>\n",
       "    </tr>\n",
       "    <tr>\n",
       "      <th>5004</th>\n",
       "      <td>Apple iPhone XR (64GB) - Black</td>\n",
       "      <td>0</td>\n",
       "      <td>0</td>\n",
       "      <td>https://www.amazon.in/Apple-iPhone-XR-64GB-Bla...</td>\n",
       "      <td>India</td>\n",
       "      <td>2019-12-29</td>\n",
       "      <td>Nothing</td>\n",
       "      <td>5.0 out of 5 stars</td>\n",
       "      <td>Apple</td>\n",
       "      <td>Manish</td>\n",
       "      <td>Fantabulous phone. Easy to use.</td>\n",
       "    </tr>\n",
       "    <tr>\n",
       "      <th>5005</th>\n",
       "      <td>Apple iPhone XR (64GB) - Black</td>\n",
       "      <td>0</td>\n",
       "      <td>0</td>\n",
       "      <td>https://www.amazon.in/Apple-iPhone-XR-64GB-Bla...</td>\n",
       "      <td>India</td>\n",
       "      <td>2019-11-10</td>\n",
       "      <td>Superbb</td>\n",
       "      <td>5.0 out of 5 stars</td>\n",
       "      <td>Apple</td>\n",
       "      <td>basil john p</td>\n",
       "      <td>Fantastic</td>\n",
       "    </tr>\n",
       "    <tr>\n",
       "      <th>5006</th>\n",
       "      <td>Apple iPhone XR (64GB) - Black</td>\n",
       "      <td>0</td>\n",
       "      <td>0</td>\n",
       "      <td>https://www.amazon.in/Apple-iPhone-XR-64GB-Bla...</td>\n",
       "      <td>India</td>\n",
       "      <td>2019-11-05</td>\n",
       "      <td>Nothing</td>\n",
       "      <td>5.0 out of 5 stars</td>\n",
       "      <td>Apple</td>\n",
       "      <td>Amazon Customer</td>\n",
       "      <td>Best purchase</td>\n",
       "    </tr>\n",
       "  </tbody>\n",
       "</table>\n",
       "<p>5007 rows × 11 columns</p>\n",
       "</div>"
      ],
      "text/plain": [
       "                             product                    helpful_count  \\\n",
       "0     Apple iPhone XR (64GB) - Black  5,087 people found this helpful   \n",
       "1     Apple iPhone XR (64GB) - Black  2,822 people found this helpful   \n",
       "2     Apple iPhone XR (64GB) - Black  1,798 people found this helpful   \n",
       "3     Apple iPhone XR (64GB) - Black  1,366 people found this helpful   \n",
       "4     Apple iPhone XR (64GB) - Black    536 people found this helpful   \n",
       "...                              ...                              ...   \n",
       "5002  Apple iPhone XR (64GB) - Black                                0   \n",
       "5003  Apple iPhone XR (64GB) - Black                                0   \n",
       "5004  Apple iPhone XR (64GB) - Black                                0   \n",
       "5005  Apple iPhone XR (64GB) - Black                                0   \n",
       "5006  Apple iPhone XR (64GB) - Black                                0   \n",
       "\n",
       "      total_comments                                                url  \\\n",
       "0                 24  https://www.amazon.in/Apple-iPhone-XR-64GB-Bla...   \n",
       "1                  6  https://www.amazon.in/Apple-iPhone-XR-64GB-Bla...   \n",
       "2                  0  https://www.amazon.in/Apple-iPhone-XR-64GB-Bla...   \n",
       "3                 14  https://www.amazon.in/Apple-iPhone-XR-64GB-Bla...   \n",
       "4                  5  https://www.amazon.in/Apple-iPhone-XR-64GB-Bla...   \n",
       "...              ...                                                ...   \n",
       "5002               0  https://www.amazon.in/Apple-iPhone-XR-64GB-Bla...   \n",
       "5003               0  https://www.amazon.in/Apple-iPhone-XR-64GB-Bla...   \n",
       "5004               0  https://www.amazon.in/Apple-iPhone-XR-64GB-Bla...   \n",
       "5005               0  https://www.amazon.in/Apple-iPhone-XR-64GB-Bla...   \n",
       "5006               0  https://www.amazon.in/Apple-iPhone-XR-64GB-Bla...   \n",
       "\n",
       "     review_country reviewed_at  \\\n",
       "0            India   2018-12-12   \n",
       "1            India   2018-11-17   \n",
       "2            India   2019-01-27   \n",
       "3            India   2019-05-02   \n",
       "4            India   2019-05-24   \n",
       "...             ...         ...   \n",
       "5002         India   2019-11-13   \n",
       "5003         India   2019-11-15   \n",
       "5004         India   2019-12-29   \n",
       "5005         India   2019-11-10   \n",
       "5006         India   2019-11-05   \n",
       "\n",
       "                                            review_text       review_rating  \\\n",
       "0                                                 NOTE:  3.0 out of 5 stars   \n",
       "1     Very bad experience with this iPhone xr phone....  1.0 out of 5 stars   \n",
       "2     Amazing phone with amazing camera coming from ...  5.0 out of 5 stars   \n",
       "3     So I got the iPhone XR just today. The product...  1.0 out of 5 stars   \n",
       "4     I've been an android user all my life until I ...  5.0 out of 5 stars   \n",
       "...                                                 ...                 ...   \n",
       "5002                                            Dhamaka  4.0 out of 5 stars   \n",
       "5003                                            Goodbye  4.0 out of 5 stars   \n",
       "5004                                            Nothing  5.0 out of 5 stars   \n",
       "5005                                            Superbb  5.0 out of 5 stars   \n",
       "5006                                            Nothing  5.0 out of 5 stars   \n",
       "\n",
       "     product_company     profile_name  \\\n",
       "0              Apple     Sameer Patil   \n",
       "1              Apple  Amazon Customer   \n",
       "2              Apple                A   \n",
       "3              Apple    Shubham Dutta   \n",
       "4              Apple     Nepuni Lokho   \n",
       "...              ...              ...   \n",
       "5002           Apple           Shreya   \n",
       "5003           Apple        murali hv   \n",
       "5004           Apple           Manish   \n",
       "5005           Apple     basil john p   \n",
       "5006           Apple  Amazon Customer   \n",
       "\n",
       "                                           review_title  \n",
       "0     Which iPhone you should Purchase ? iPhone 8, X...  \n",
       "1                      Don't buy iPhone xr from Amazon.  \n",
       "2                               Happy with the purchase  \n",
       "3     Amazon is not an apple authorised reseller. Pl...  \n",
       "4          Excellent Battery life and buttery smooth UI  \n",
       "...                                                 ...  \n",
       "5002                                      Dhamaka phone  \n",
       "5003                                               Good  \n",
       "5004                    Fantabulous phone. Easy to use.  \n",
       "5005                                          Fantastic  \n",
       "5006                                      Best purchase  \n",
       "\n",
       "[5007 rows x 11 columns]"
      ]
     },
     "execution_count": 11,
     "metadata": {},
     "output_type": "execute_result"
    }
   ],
   "source": [
    "df.drop(columns = \"index\", inplace=True)\n",
    "df"
   ]
  },
  {
   "cell_type": "code",
   "execution_count": 12,
   "id": "e5d793e3",
   "metadata": {},
   "outputs": [
    {
     "data": {
      "text/plain": [
       "5.0 out of 5 stars    3730\n",
       "4.0 out of 5 stars     718\n",
       "1.0 out of 5 stars     319\n",
       "3.0 out of 5 stars     153\n",
       "2.0 out of 5 stars      87\n",
       "Name: review_rating, dtype: int64"
      ]
     },
     "execution_count": 12,
     "metadata": {},
     "output_type": "execute_result"
    }
   ],
   "source": [
    "df[\"review_rating\"].value_counts()"
   ]
  },
  {
   "cell_type": "code",
   "execution_count": 13,
   "id": "2b84b9e5",
   "metadata": {},
   "outputs": [
    {
     "data": {
      "text/plain": [
       "Apple iPhone XR (64GB) - Black    5007\n",
       "Name: product, dtype: int64"
      ]
     },
     "execution_count": 13,
     "metadata": {},
     "output_type": "execute_result"
    }
   ],
   "source": [
    "df[\"product\"].value_counts()"
   ]
  },
  {
   "cell_type": "code",
   "execution_count": 14,
   "id": "0a5af428",
   "metadata": {},
   "outputs": [
    {
     "data": {
      "text/plain": [
       "0     4951\n",
       "1       41\n",
       "2        5\n",
       "24       2\n",
       "6        2\n",
       "14       2\n",
       "5        2\n",
       "3        2\n",
       "Name: total_comments, dtype: int64"
      ]
     },
     "execution_count": 14,
     "metadata": {},
     "output_type": "execute_result"
    }
   ],
   "source": [
    "df[\"total_comments\"].value_counts()"
   ]
  },
  {
   "cell_type": "code",
   "execution_count": 16,
   "id": "054a1a47",
   "metadata": {},
   "outputs": [
    {
     "data": {
      "text/plain": [
       "<bound method Series.unique of 0       https://www.amazon.in/Apple-iPhone-XR-64GB-Bla...\n",
       "1       https://www.amazon.in/Apple-iPhone-XR-64GB-Bla...\n",
       "2       https://www.amazon.in/Apple-iPhone-XR-64GB-Bla...\n",
       "3       https://www.amazon.in/Apple-iPhone-XR-64GB-Bla...\n",
       "4       https://www.amazon.in/Apple-iPhone-XR-64GB-Bla...\n",
       "                              ...                        \n",
       "5002    https://www.amazon.in/Apple-iPhone-XR-64GB-Bla...\n",
       "5003    https://www.amazon.in/Apple-iPhone-XR-64GB-Bla...\n",
       "5004    https://www.amazon.in/Apple-iPhone-XR-64GB-Bla...\n",
       "5005    https://www.amazon.in/Apple-iPhone-XR-64GB-Bla...\n",
       "5006    https://www.amazon.in/Apple-iPhone-XR-64GB-Bla...\n",
       "Name: url, Length: 5007, dtype: object>"
      ]
     },
     "execution_count": 16,
     "metadata": {},
     "output_type": "execute_result"
    }
   ],
   "source": [
    "df[\"url\"].unique"
   ]
  },
  {
   "cell_type": "code",
   "execution_count": 18,
   "id": "0cbf0b7e",
   "metadata": {},
   "outputs": [
    {
     "data": {
      "text/plain": [
       "Good               146\n",
       "Excellent           68\n",
       "Awesome             51\n",
       "Good product        48\n",
       "Nice phone          42\n",
       "Nice                37\n",
       "Good phone          30\n",
       "Excellent phone     23\n",
       "Awesome phone       22\n",
       "Very good           22\n",
       "Name: review_text, dtype: int64"
      ]
     },
     "execution_count": 18,
     "metadata": {},
     "output_type": "execute_result"
    }
   ],
   "source": [
    "df[\"review_text\"].value_counts()[:10]"
   ]
  },
  {
   "cell_type": "code",
   "execution_count": 19,
   "id": "f5a225a9",
   "metadata": {},
   "outputs": [
    {
     "data": {
      "text/plain": [
       "Apple    5007\n",
       "Name: product_company, dtype: int64"
      ]
     },
     "execution_count": 19,
     "metadata": {},
     "output_type": "execute_result"
    }
   ],
   "source": [
    "df[\"product_company\"].value_counts()"
   ]
  },
  {
   "cell_type": "code",
   "execution_count": 21,
   "id": "73088e12",
   "metadata": {},
   "outputs": [
    {
     "data": {
      "text/plain": [
       "Amazon Customer    550\n",
       "Amit                 8\n",
       "Gaurav               8\n",
       "Deepak               8\n",
       "Vishal               8\n",
       "Manoj                7\n",
       "Anil                 7\n",
       "Aditya               7\n",
       "sandeep              6\n",
       "Rahul                6\n",
       "Name: profile_name, dtype: int64"
      ]
     },
     "execution_count": 21,
     "metadata": {},
     "output_type": "execute_result"
    }
   ],
   "source": [
    "df[\"profile_name\"].value_counts()[:10]"
   ]
  },
  {
   "cell_type": "code",
   "execution_count": 24,
   "id": "27647d19",
   "metadata": {},
   "outputs": [
    {
     "data": {
      "text/plain": [
       "Good               209\n",
       "Awesome            117\n",
       "Nice                84\n",
       "Excellent           84\n",
       "Value for money     62\n",
       "Good product        49\n",
       "Nice phone          48\n",
       "Good phone          47\n",
       "iPhone XR           47\n",
       "Great               36\n",
       "Name: review_title, dtype: int64"
      ]
     },
     "execution_count": 24,
     "metadata": {},
     "output_type": "execute_result"
    }
   ],
   "source": [
    "df[\"review_title\"].value_counts()[:10]"
   ]
  },
  {
   "cell_type": "code",
   "execution_count": null,
   "id": "183a39b0",
   "metadata": {},
   "outputs": [],
   "source": []
  }
 ],
 "metadata": {
  "kernelspec": {
   "display_name": "Python 3 (ipykernel)",
   "language": "python",
   "name": "python3"
  },
  "language_info": {
   "codemirror_mode": {
    "name": "ipython",
    "version": 3
   },
   "file_extension": ".py",
   "mimetype": "text/x-python",
   "name": "python",
   "nbconvert_exporter": "python",
   "pygments_lexer": "ipython3",
   "version": "3.9.13"
  }
 },
 "nbformat": 4,
 "nbformat_minor": 5
}
